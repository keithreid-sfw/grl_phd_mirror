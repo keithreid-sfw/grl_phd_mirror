{
 "cells": [
  {
   "cell_type": "code",
   "execution_count": 1,
   "id": "69991930-b35d-4385-848a-32e5eecc0260",
   "metadata": {},
   "outputs": [],
   "source": [
    "library(datasets)\n",
    "data(mtcars)"
   ]
  },
  {
   "cell_type": "code",
   "execution_count": null,
   "id": "6cc4eb07-c379-4a87-abc9-62f7b42f2c4a",
   "metadata": {},
   "outputs": [],
   "source": [
    "head(mtcars)"
   ]
  }
 ],
 "metadata": {
  "kernelspec": {
   "display_name": "R",
   "language": "R",
   "name": "ir"
  },
  "language_info": {
   "codemirror_mode": "r",
   "file_extension": ".r",
   "mimetype": "text/x-r-source",
   "name": "R",
   "pygments_lexer": "r",
   "version": "4.3.1"
  }
 },
 "nbformat": 4,
 "nbformat_minor": 5
}
