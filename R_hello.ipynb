{
 "cells": [
  {
   "cell_type": "code",
   "execution_count": 1,
   "id": "3c135162-c776-4341-bd3f-4ae824d3aac6",
   "metadata": {},
   "outputs": [
    {
     "name": "stdout",
     "output_type": "stream",
     "text": [
      "[1] \"HelloWorld\"\n"
     ]
    }
   ],
   "source": [
    "print(\"HelloWorld\") "
   ]
  },
  {
   "cell_type": "code",
   "execution_count": null,
   "id": "da93fc23-ecd4-42b5-9751-26b5b5d3e60d",
   "metadata": {},
   "outputs": [],
   "source": []
  }
 ],
 "metadata": {
  "kernelspec": {
   "display_name": "R",
   "language": "R",
   "name": "ir"
  },
  "language_info": {
   "codemirror_mode": "r",
   "file_extension": ".r",
   "mimetype": "text/x-r-source",
   "name": "R",
   "pygments_lexer": "r",
   "version": "4.3.1"
  }
 },
 "nbformat": 4,
 "nbformat_minor": 5
}
